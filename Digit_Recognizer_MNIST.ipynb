{
  "nbformat": 4,
  "nbformat_minor": 0,
  "metadata": {
    "kernelspec": {
      "name": "python3",
      "display_name": "Python 3"
    },
    "colab": {
      "name": "Digit-Recognizer-MNIST.ipynb",
      "provenance": []
    },
    "accelerator": "GPU"
  },
  "cells": [
    {
      "cell_type": "markdown",
      "metadata": {
        "id": "BRu2Rkzp6BbS",
        "colab_type": "text"
      },
      "source": [
        "# [Kaggle] Digit Recognizer \n",
        "\n",
        "MNIST (\"Modified National Institute of Standards and Technology\") is the de facto “hello world” dataset of computer vision. Since its release in 1999, this classic dataset of handwritten images has served as the basis for benchmarking classification algorithms. As new machine learning techniques emerge, MNIST remains a reliable resource for researchers and learners alike.\n",
        "\n",
        "In this competition, our goal is to correctly identify digits from a dataset of tens of thousands of handwritten images.\n",
        "\n",
        "> https://www.kaggle.com/c/digit-recognizer"
      ]
    },
    {
      "cell_type": "code",
      "metadata": {
        "id": "rIGF9uL86BbU",
        "colab_type": "code",
        "colab": {}
      },
      "source": [
        "import tensorflow as tf\n",
        "import numpy as np\n",
        "from tensorflow.keras.layers import Input, Conv2D, MaxPooling2D, Dense, Flatten, Dropout, Activation, BatchNormalization\n",
        "from tensorflow.keras.models import Model, Sequential\n",
        "from tensorflow.keras.utils import to_categorical\n",
        "from tensorflow.keras.preprocessing.image import ImageDataGenerator\n",
        "from tensorflow.keras.regularizers import l2\n",
        "from tensorflow.keras.callbacks import ReduceLROnPlateau\n",
        "from sklearn.model_selection import train_test_split\n",
        "import matplotlib.pyplot as plt\n",
        "import pandas as pd\n",
        "import math"
      ],
      "execution_count": 0,
      "outputs": []
    },
    {
      "cell_type": "code",
      "metadata": {
        "id": "b-6lKxc-6BbX",
        "colab_type": "code",
        "colab": {
          "base_uri": "https://localhost:8080/",
          "height": 34
        },
        "outputId": "ef611b9c-4e2c-45b4-aef2-53080fcd5267"
      },
      "source": [
        "print(tf.__version__)"
      ],
      "execution_count": 29,
      "outputs": [
        {
          "output_type": "stream",
          "text": [
            "2.2.0-rc3\n"
          ],
          "name": "stdout"
        }
      ]
    },
    {
      "cell_type": "markdown",
      "metadata": {
        "id": "Cva2pBRm6Bbb",
        "colab_type": "text"
      },
      "source": [
        "## Model\n",
        "\n",
        "### Implemented a modified LeNet-5. \n",
        "\n",
        "**LeNet-5** - GradientBased Learning Applied to Document Recognition (Yann LeCun Leon Bottou Yoshua Bengio and Patrick Haffner) (http://vision.stanford.edu/cs598_spring07/papers/Lecun98.pdf)\n",
        "\n",
        "### [LeNet-5] Original Architecture\n",
        "\n",
        "ConvNet --> Pool --> ConvNet --> Pool --> (Flatten) --> FullyConnected --> FullyConnected --> Softmax \n",
        "\n",
        "### Results\n",
        "\n",
        "**epochs** - 30  \n",
        "**loss** - 0.0016  \n",
        "**train_accuracy** -  0.9998  \n",
        "**val_loss** -  0.0412  \n",
        "**val_accuracy** - 0.9905  \n",
        "\n",
        "#### Highest Dev Set Accuracy Obtained - 99.05%"
      ]
    },
    {
      "cell_type": "code",
      "metadata": {
        "id": "zzwT2Buy6Bbc",
        "colab_type": "code",
        "colab": {}
      },
      "source": [
        "def LeNet5(input_shape = (32, 32, 1), classes = 10):\n",
        "    \"\"\"\n",
        "    Implementation of a modified LeNet-5.\n",
        "    Modified Architecture -- ConvNet --> Pool --> ConvNet --> Pool --> (Flatten) --> FullyConnected --> FullyConnected --> Softmax \n",
        "\n",
        "    Arguments:\n",
        "    input_shape -- shape of the images of the dataset\n",
        "    classes -- integer, number of classes\n",
        "\n",
        "    Returns:\n",
        "    model -- a Model() instance in Keras\n",
        "    \"\"\"\n",
        "    \n",
        "    model = Sequential([\n",
        "        \n",
        "    # Layer 1\n",
        "    Conv2D(filters = 6, kernel_size = 5, strides = 1, activation = 'relu', input_shape = (32,32,1), name = 'convolution_1'),\n",
        "    MaxPooling2D(pool_size = 2, strides = 2, name = 'max_pool_1'),\n",
        "        \n",
        "    # Layer 2\n",
        "    Conv2D(filters = 16, kernel_size = 5, strides = 1, activation = 'relu', name = 'convolution_2'),\n",
        "    MaxPooling2D(pool_size = 2, strides = 2, name = 'max_pool_2'),\n",
        "        \n",
        "    # Layer 3\n",
        "    Flatten(name = 'flatten'),\n",
        "    Dense(units = 120, activation = 'relu', name = 'fully_connected_1'),\n",
        "        \n",
        "    # Layer 4\n",
        "    Dense(units = 84, activation = 'relu', name = 'fully_connected_2'),\n",
        "    \n",
        "    # Output\n",
        "    Dense(units = 10, activation = 'softmax', name = 'output')\n",
        "        \n",
        "    ])\n",
        "    \n",
        "    model._name = 'LeNet5'\n",
        "\n",
        "    return model"
      ],
      "execution_count": 0,
      "outputs": []
    },
    {
      "cell_type": "markdown",
      "metadata": {
        "id": "LlJQLCOX6Bbe",
        "colab_type": "text"
      },
      "source": [
        "### [LeNet-5] Modified Architecture\n",
        "\n",
        "ConvNet --> **ConvNet** --> Pool --> **(Dropout)** --> ConvNet --> Pool --> **(Dropout)** --> (Flatten) --> FullyConnected --> FullyConnected --> Softmax \n",
        "\n",
        "### Results\n",
        "\n",
        "**epochs** - 30  \n",
        "**loss** - 0.0319  \n",
        "**train_accuracy** -  0.9918  \n",
        "**val_loss** -  0.0327  \n",
        "**val_accuracy** - 0.9929  \n",
        "\n",
        "#### Highest Dev Set Accuracy Obtained - 99.29%"
      ]
    },
    {
      "cell_type": "code",
      "metadata": {
        "id": "O38-h8R86Bbf",
        "colab_type": "code",
        "colab": {}
      },
      "source": [
        "def LeNet5v1(input_shape = (32, 32, 1), classes = 10):\n",
        "    \"\"\"\n",
        "    Implementation of a modified LeNet-5.\n",
        "    Modified Architecture -- ConvNet --> ConvNet --> Pool --> (Dropout) --> ConvNet --> Pool --> (Dropout) --> (Flatten) --> FullyConnected --> FullyConnected --> Softmax \n",
        "\n",
        "    Arguments:\n",
        "    input_shape -- shape of the images of the dataset\n",
        "    classes -- integer, number of classes\n",
        "\n",
        "    Returns:\n",
        "    model -- a Model() instance in Keras\n",
        "    \"\"\"\n",
        "    \n",
        "    model = Sequential([\n",
        "        \n",
        "    # Layer 1\n",
        "    Conv2D(filters = 6, kernel_size = 5, strides = 1, activation = 'relu', input_shape = (32,32,1), name = 'convolution_1'),\n",
        "    \n",
        "    # Layer 2    \n",
        "    Conv2D(filters = 6, kernel_size = 5, strides = 1, activation = 'relu', name = 'convolution_2'),\n",
        "    \n",
        "    # -------------------------------- # \n",
        "    MaxPooling2D(pool_size = 2, strides = 2, name = 'max_pool_1'),\n",
        "    Dropout(0.25, name = 'dropout_1'),\n",
        "    # -------------------------------- # \n",
        "        \n",
        "    # Layer 3\n",
        "    Conv2D(filters = 16, kernel_size = 5, strides = 1, activation = 'relu', kernel_regularizer = l2(0.01), name = 'convolution_3'),\n",
        "    \n",
        "    # -------------------------------- # \n",
        "    MaxPooling2D(pool_size = 2, strides = 2, name = 'max_pool_2'),\n",
        "    Dropout(0.25, name = 'dropout_2'),\n",
        "    Flatten(name = 'flatten'),\n",
        "    # -------------------------------- # \n",
        "        \n",
        "    # Layer 4\n",
        "    Dense(units = 120, activation = 'relu', name = 'fully_connected_1'),\n",
        "        \n",
        "    # Layer 5\n",
        "    Dense(units = 84, activation = 'relu', name = 'fully_connected_2'),\n",
        "    \n",
        "    # Output\n",
        "    Dense(units = 10, activation = 'softmax', name = 'output')\n",
        "        \n",
        "    ])\n",
        "    \n",
        "    model._name = 'LeNet5v1'\n",
        "\n",
        "    return model"
      ],
      "execution_count": 0,
      "outputs": []
    },
    {
      "cell_type": "markdown",
      "metadata": {
        "id": "VmJKdBrC6Bbi",
        "colab_type": "text"
      },
      "source": [
        "### [LeNet-5] Modified Architecture\n",
        "\n",
        "ConvNet --> **ConvNet** --> **BatchNorm** --> Pool --> **(Dropout)** --> ConvNet --> **ConvNet** --> **BatchNorm** --> Pool --> **(Dropout)** --> (Flatten) --> **FullyConnected** --> **BatchNorm** --> FullyConnected --> **BatchNorm** --> FullyConnected --> **BatchNorm** --> Softmax \n",
        "\n",
        "### Results\n",
        "\n",
        "**epochs** - 30  \n",
        "**loss** - 0.0113  \n",
        "**train_accuracy** - 0.9966   \n",
        "**val_loss** -  0.0176  \n",
        "**val_accuracy** - 0.9957  \n",
        "\n",
        "#### Highest Dev Set Accuracy Obtained - 99.57%"
      ]
    },
    {
      "cell_type": "code",
      "metadata": {
        "id": "vP3BMEMy6Bbi",
        "colab_type": "code",
        "colab": {}
      },
      "source": [
        "def LeNet5v2(input_shape = (32, 32, 1), classes = 10):\n",
        "    \"\"\"\n",
        "    Implementation of a modified LeNet-5.\n",
        "    Only those layers with learnable parameters are counted in the layer numbering.\n",
        "    \n",
        "    Arguments:\n",
        "    input_shape -- shape of the images of the dataset\n",
        "    classes -- integer, number of classes\n",
        "\n",
        "    Returns:\n",
        "    model -- a Model() instance in Keras\n",
        "    \"\"\"\n",
        "    \n",
        "    model = Sequential([\n",
        "        \n",
        "    # Layer 1\n",
        "    Conv2D(filters = 32, kernel_size = 5, strides = 1, activation = 'relu', input_shape = (32,32,1), name = 'convolution_1'),\n",
        "    \n",
        "    # Layer 2\n",
        "    Conv2D(filters = 32, kernel_size = 5, strides = 1, name = 'convolution_2', use_bias=False),\n",
        "    \n",
        "    # Layer 3    \n",
        "    BatchNormalization(name = 'batchnorm_1'),\n",
        "        \n",
        "    # -------------------------------- #  \n",
        "    Activation(\"relu\"),\n",
        "    MaxPooling2D(pool_size = 2, strides = 2, name = 'max_pool_1'),\n",
        "    Dropout(0.25, name = 'dropout_1'),\n",
        "    # -------------------------------- #  \n",
        "        \n",
        "    # Layer 3\n",
        "    Conv2D(filters = 64, kernel_size = 3, strides = 1, activation = 'relu', name = 'convolution_3'),\n",
        "        \n",
        "    # Layer 4\n",
        "    Conv2D(filters = 64, kernel_size = 3, strides = 1, name = 'convolution_4', use_bias=False),\n",
        "        \n",
        "    # Layer 5\n",
        "    BatchNormalization(name = 'batchnorm_2'),\n",
        "        \n",
        "    # -------------------------------- #  \n",
        "    Activation(\"relu\"),\n",
        "    MaxPooling2D(pool_size = 2, strides = 2, name = 'max_pool_2'),\n",
        "    Dropout(0.25, name = 'dropout_2'),\n",
        "    Flatten(name = 'flatten'),\n",
        "    # -------------------------------- #  \n",
        "        \n",
        "    # Layer 6\n",
        "    Dense(units = 256, name = 'fully_connected_1', use_bias=False),\n",
        "        \n",
        "    # Layer 7\n",
        "    BatchNormalization(name = 'batchnorm_3'),\n",
        "    \n",
        "    # -------------------------------- #  \n",
        "    Activation(\"relu\"),\n",
        "    # -------------------------------- #  \n",
        "        \n",
        "    # Layer 8\n",
        "    Dense(units = 128, name = 'fully_connected_2', use_bias=False),\n",
        "        \n",
        "    # Layer 9\n",
        "    BatchNormalization(name = 'batchnorm_4'),\n",
        "        \n",
        "    # -------------------------------- #  \n",
        "    Activation(\"relu\"),\n",
        "    # -------------------------------- #  \n",
        "        \n",
        "    # Layer 10\n",
        "    Dense(units = 84, name = 'fully_connected_3', use_bias=False),\n",
        "        \n",
        "    # Layer 11\n",
        "    BatchNormalization(name = 'batchnorm_5'),\n",
        "        \n",
        "    # -------------------------------- #  \n",
        "    Activation(\"relu\"),\n",
        "    Dropout(0.25, name = 'dropout_3'),\n",
        "    # -------------------------------- #  \n",
        "\n",
        "    # Output\n",
        "    Dense(units = 10, activation = 'softmax', name = 'output')\n",
        "        \n",
        "    ])\n",
        "    \n",
        "    model._name = 'LeNet5v2'\n",
        "\n",
        "    return model"
      ],
      "execution_count": 0,
      "outputs": []
    },
    {
      "cell_type": "code",
      "metadata": {
        "id": "KPVOreYI6Bbl",
        "colab_type": "code",
        "colab": {}
      },
      "source": [
        "LeNet5Model = LeNet5v2(input_shape = (32, 32, 1), classes = 10)"
      ],
      "execution_count": 0,
      "outputs": []
    },
    {
      "cell_type": "code",
      "metadata": {
        "id": "_WE7wIWR6Bbn",
        "colab_type": "code",
        "colab": {}
      },
      "source": [
        "LeNet5Model.compile(optimizer='adam', loss='categorical_crossentropy', metrics=['accuracy'])"
      ],
      "execution_count": 0,
      "outputs": []
    },
    {
      "cell_type": "code",
      "metadata": {
        "id": "bKRpyBC56Bbq",
        "colab_type": "code",
        "colab": {
          "base_uri": "https://localhost:8080/",
          "height": 969
        },
        "outputId": "5d961e9e-3c1e-403b-9fd2-5137c59570a2"
      },
      "source": [
        "LeNet5Model.summary()"
      ],
      "execution_count": 35,
      "outputs": [
        {
          "output_type": "stream",
          "text": [
            "Model: \"LeNet5v2\"\n",
            "_________________________________________________________________\n",
            "Layer (type)                 Output Shape              Param #   \n",
            "=================================================================\n",
            "convolution_1 (Conv2D)       (None, 28, 28, 32)        832       \n",
            "_________________________________________________________________\n",
            "convolution_2 (Conv2D)       (None, 24, 24, 32)        25600     \n",
            "_________________________________________________________________\n",
            "batchnorm_1 (BatchNormalizat (None, 24, 24, 32)        128       \n",
            "_________________________________________________________________\n",
            "activation_10 (Activation)   (None, 24, 24, 32)        0         \n",
            "_________________________________________________________________\n",
            "max_pool_1 (MaxPooling2D)    (None, 12, 12, 32)        0         \n",
            "_________________________________________________________________\n",
            "dropout_1 (Dropout)          (None, 12, 12, 32)        0         \n",
            "_________________________________________________________________\n",
            "convolution_3 (Conv2D)       (None, 10, 10, 64)        18496     \n",
            "_________________________________________________________________\n",
            "convolution_4 (Conv2D)       (None, 8, 8, 64)          36864     \n",
            "_________________________________________________________________\n",
            "batchnorm_2 (BatchNormalizat (None, 8, 8, 64)          256       \n",
            "_________________________________________________________________\n",
            "activation_11 (Activation)   (None, 8, 8, 64)          0         \n",
            "_________________________________________________________________\n",
            "max_pool_2 (MaxPooling2D)    (None, 4, 4, 64)          0         \n",
            "_________________________________________________________________\n",
            "dropout_2 (Dropout)          (None, 4, 4, 64)          0         \n",
            "_________________________________________________________________\n",
            "flatten (Flatten)            (None, 1024)              0         \n",
            "_________________________________________________________________\n",
            "fully_connected_1 (Dense)    (None, 256)               262144    \n",
            "_________________________________________________________________\n",
            "batchnorm_3 (BatchNormalizat (None, 256)               1024      \n",
            "_________________________________________________________________\n",
            "activation_12 (Activation)   (None, 256)               0         \n",
            "_________________________________________________________________\n",
            "fully_connected_2 (Dense)    (None, 128)               32768     \n",
            "_________________________________________________________________\n",
            "batchnorm_4 (BatchNormalizat (None, 128)               512       \n",
            "_________________________________________________________________\n",
            "activation_13 (Activation)   (None, 128)               0         \n",
            "_________________________________________________________________\n",
            "fully_connected_3 (Dense)    (None, 84)                10752     \n",
            "_________________________________________________________________\n",
            "batchnorm_5 (BatchNormalizat (None, 84)                336       \n",
            "_________________________________________________________________\n",
            "activation_14 (Activation)   (None, 84)                0         \n",
            "_________________________________________________________________\n",
            "dropout_3 (Dropout)          (None, 84)                0         \n",
            "_________________________________________________________________\n",
            "output (Dense)               (None, 10)                850       \n",
            "=================================================================\n",
            "Total params: 390,562\n",
            "Trainable params: 389,434\n",
            "Non-trainable params: 1,128\n",
            "_________________________________________________________________\n"
          ],
          "name": "stdout"
        }
      ]
    },
    {
      "cell_type": "code",
      "metadata": {
        "id": "1rH9irWw6Bbs",
        "colab_type": "code",
        "colab": {}
      },
      "source": [
        ""
      ],
      "execution_count": 0,
      "outputs": []
    },
    {
      "cell_type": "markdown",
      "metadata": {
        "id": "_9Jw_5Yy6Bbu",
        "colab_type": "text"
      },
      "source": [
        "## Kaggle Data Processing"
      ]
    },
    {
      "cell_type": "code",
      "metadata": {
        "scrolled": true,
        "id": "NvBD5ecM6Bbv",
        "colab_type": "code",
        "colab": {
          "base_uri": "https://localhost:8080/",
          "height": 316
        },
        "outputId": "329a7322-9b2a-4a7d-9d28-a50b569cffa1"
      },
      "source": [
        "train = pd.read_csv('train.csv')\n",
        "test = pd.read_csv('test.csv')\n",
        "\n",
        "Y = train[['label']]\n",
        "X = train.drop(train.columns[[0]], axis=1)\n",
        "\n",
        "X = X.values.reshape(-1,28,28,1)\n",
        "test = test.values.reshape(-1,28,28,1)\n",
        "\n",
        "print(\"Size of Dataset: \" , len(X))\n",
        "\n",
        "cross_validation_size = int(len(X)*0.05)\n",
        "\n",
        "print(\"Size of Cross Validation Set: \" , cross_validation_size)\n",
        "\n",
        "random_seed = 2\n",
        "X_train, X_val, Y_train, Y_val = train_test_split(X, Y, test_size = cross_validation_size, random_state=random_seed)\n",
        "\n",
        "X_test = test\n",
        "\n",
        "plt.imshow(X_train[0][:,:,0])"
      ],
      "execution_count": 36,
      "outputs": [
        {
          "output_type": "stream",
          "text": [
            "Size of Dataset:  42000\n",
            "Size of Cross Validation Set:  2100\n"
          ],
          "name": "stdout"
        },
        {
          "output_type": "execute_result",
          "data": {
            "text/plain": [
              "<matplotlib.image.AxesImage at 0x7fca1604dc50>"
            ]
          },
          "metadata": {
            "tags": []
          },
          "execution_count": 36
        },
        {
          "output_type": "display_data",
          "data": {
            "image/png": "[encoded data removed]",
            "text/plain": [
              "<Figure size 432x288 with 1 Axes>"
            ]
          },
          "metadata": {
            "tags": [],
            "needs_background": "light"
          }
        }
      ]
    },
    {
      "cell_type": "code",
      "metadata": {
        "id": "05nGMrbm6Bbx",
        "colab_type": "code",
        "colab": {}
      },
      "source": [
        "X_train = np.array(X_train)\n",
        "X_val = np.array(X_val)\n",
        "X_test = np.array(X_test)\n",
        "\n",
        "# Padding the images by 2 pixels since in the paper input images were 32x32\n",
        "X_train = np.pad(X_train, ((0,0),(2,2),(2,2),(0,0)), 'constant')\n",
        "X_val = np.pad(X_val, ((0,0),(2,2),(2,2),(0,0)), 'constant')\n",
        "X_test = np.pad(X_test, ((0,0),(2,2),(2,2),(0,0)), 'constant')\n",
        "\n",
        "# Standardization\n",
        "mean_px = X_train.mean().astype(np.float32)\n",
        "std_px = X_train.std().astype(np.float32)\n",
        "X_train = (X_train - mean_px)/(std_px)\n",
        "\n",
        "mean_px = X_val.mean().astype(np.float32)\n",
        "std_px = X_val.std().astype(np.float32)\n",
        "X_val = (X_val - mean_px)/(std_px)\n",
        "\n",
        "mean_px = X_test.mean().astype(np.float32)\n",
        "std_px = X_test.std().astype(np.float32)\n",
        "X_test = (X_test - mean_px)/(std_px)\n",
        "\n",
        "# One-hot encoding the labels\n",
        "Y_train = to_categorical(Y_train, num_classes = 10)\n",
        "Y_val = to_categorical(Y_val, num_classes = 10)"
      ],
      "execution_count": 0,
      "outputs": []
    },
    {
      "cell_type": "code",
      "metadata": {
        "id": "C-EpjOba6Bb0",
        "colab_type": "code",
        "colab": {}
      },
      "source": [
        "# By using the image generator, we are not generating new data. We are only replacing the exisiting images. \n",
        "\n",
        "datagen = ImageDataGenerator(\n",
        "        featurewise_center = False,  # set input mean to 0 over the dataset\n",
        "        samplewise_center = False,  # set each sample mean to 0\n",
        "        featurewise_std_normalization = False,  # divide inputs by std of the dataset\n",
        "        samplewise_std_normalization = False,  # divide each input by its std\n",
        "        zca_whitening = False,  # apply ZCA whitening\n",
        "        rotation_range = 10,  # randomly rotate images in the range (degrees, 0 to 180)\n",
        "        zoom_range = 0.1, # Randomly zoom image \n",
        "        width_shift_range = 0.1,  # randomly shift images horizontally (fraction of total width)\n",
        "        height_shift_range = 0.1,  # randomly shift images vertically (fraction of total height)\n",
        "        horizontal_flip = False,  # randomly flip images\n",
        "        vertical_flip = False)  # randomly flip images\n",
        "\n",
        "datagen.fit(X_train)"
      ],
      "execution_count": 0,
      "outputs": []
    },
    {
      "cell_type": "code",
      "metadata": {
        "id": "h1K3pH4W6Bb2",
        "colab_type": "code",
        "colab": {}
      },
      "source": [
        ""
      ],
      "execution_count": 0,
      "outputs": []
    },
    {
      "cell_type": "markdown",
      "metadata": {
        "id": "Ti9fic6R6Bb4",
        "colab_type": "text"
      },
      "source": [
        "### Variable Learning Rate "
      ]
    },
    {
      "cell_type": "code",
      "metadata": {
        "id": "QzelRWLT6Bb5",
        "colab_type": "code",
        "colab": {}
      },
      "source": [
        "variable_learning_rate = ReduceLROnPlateau(monitor='val_loss', factor = 0.2, patience = 2)"
      ],
      "execution_count": 0,
      "outputs": []
    },
    {
      "cell_type": "code",
      "metadata": {
        "id": "NmnLaU1h6Bb7",
        "colab_type": "code",
        "colab": {}
      },
      "source": [
        ""
      ],
      "execution_count": 0,
      "outputs": []
    },
    {
      "cell_type": "markdown",
      "metadata": {
        "id": "DBY7Qi_G6Bb9",
        "colab_type": "text"
      },
      "source": [
        "### Model Training"
      ]
    },
    {
      "cell_type": "code",
      "metadata": {
        "scrolled": false,
        "id": "8aFRDFKK6Bb9",
        "colab_type": "code",
        "colab": {
          "base_uri": "https://localhost:8080/",
          "height": 1000
        },
        "outputId": "8ff420c0-8ff5-4198-a69f-8920f6a3460d"
      },
      "source": [
        "history = LeNet5Model.fit(X_train, Y_train, epochs = 30, batch_size = 64, callbacks = [variable_learning_rate], validation_data = (X_val,Y_val))"
      ],
      "execution_count": 45,
      "outputs": [
        {
          "output_type": "stream",
          "text": [
            "Epoch 1/30\n",
            "624/624 [==============================] - 5s 8ms/step - loss: 0.0061 - accuracy: 0.9984 - val_loss: 0.0146 - val_accuracy: 0.9952 - lr: 1.3422e-22\n",
            "Epoch 2/30\n",
            "624/624 [==============================] - 5s 8ms/step - loss: 0.0071 - accuracy: 0.9979 - val_loss: 0.0145 - val_accuracy: 0.9948 - lr: 1.3422e-22\n",
            "Epoch 3/30\n",
            "624/624 [==============================] - 5s 8ms/step - loss: 0.0070 - accuracy: 0.9980 - val_loss: 0.0144 - val_accuracy: 0.9952 - lr: 1.3422e-22\n",
            "Epoch 4/30\n",
            "624/624 [==============================] - 5s 8ms/step - loss: 0.0070 - accuracy: 0.9978 - val_loss: 0.0146 - val_accuracy: 0.9948 - lr: 1.3422e-22\n",
            "Epoch 5/30\n",
            "624/624 [==============================] - 5s 8ms/step - loss: 0.0072 - accuracy: 0.9980 - val_loss: 0.0144 - val_accuracy: 0.9948 - lr: 1.3422e-22\n",
            "Epoch 6/30\n",
            "624/624 [==============================] - 5s 8ms/step - loss: 0.0066 - accuracy: 0.9980 - val_loss: 0.0143 - val_accuracy: 0.9952 - lr: 2.6844e-23\n",
            "Epoch 7/30\n",
            "624/624 [==============================] - 5s 8ms/step - loss: 0.0069 - accuracy: 0.9982 - val_loss: 0.0145 - val_accuracy: 0.9952 - lr: 2.6844e-23\n",
            "Epoch 8/30\n",
            "624/624 [==============================] - 5s 8ms/step - loss: 0.0068 - accuracy: 0.9982 - val_loss: 0.0146 - val_accuracy: 0.9952 - lr: 5.3687e-24\n",
            "Epoch 9/30\n",
            "624/624 [==============================] - 5s 8ms/step - loss: 0.0073 - accuracy: 0.9978 - val_loss: 0.0143 - val_accuracy: 0.9957 - lr: 5.3687e-24\n",
            "Epoch 10/30\n",
            "624/624 [==============================] - 5s 8ms/step - loss: 0.0067 - accuracy: 0.9983 - val_loss: 0.0145 - val_accuracy: 0.9948 - lr: 1.0737e-24\n",
            "Epoch 11/30\n",
            "624/624 [==============================] - 5s 8ms/step - loss: 0.0074 - accuracy: 0.9977 - val_loss: 0.0143 - val_accuracy: 0.9948 - lr: 1.0737e-24\n",
            "Epoch 12/30\n",
            "624/624 [==============================] - 5s 8ms/step - loss: 0.0077 - accuracy: 0.9976 - val_loss: 0.0144 - val_accuracy: 0.9952 - lr: 2.1475e-25\n",
            "Epoch 13/30\n",
            "624/624 [==============================] - 5s 8ms/step - loss: 0.0072 - accuracy: 0.9978 - val_loss: 0.0144 - val_accuracy: 0.9948 - lr: 2.1475e-25\n",
            "Epoch 14/30\n",
            "624/624 [==============================] - 5s 8ms/step - loss: 0.0072 - accuracy: 0.9979 - val_loss: 0.0143 - val_accuracy: 0.9952 - lr: 4.2950e-26\n",
            "Epoch 15/30\n",
            "624/624 [==============================] - 5s 8ms/step - loss: 0.0071 - accuracy: 0.9979 - val_loss: 0.0146 - val_accuracy: 0.9952 - lr: 4.2950e-26\n",
            "Epoch 16/30\n",
            "624/624 [==============================] - 5s 8ms/step - loss: 0.0077 - accuracy: 0.9978 - val_loss: 0.0144 - val_accuracy: 0.9948 - lr: 8.5899e-27\n",
            "Epoch 17/30\n",
            "624/624 [==============================] - 5s 8ms/step - loss: 0.0074 - accuracy: 0.9979 - val_loss: 0.0143 - val_accuracy: 0.9952 - lr: 8.5899e-27\n",
            "Epoch 18/30\n",
            "624/624 [==============================] - 5s 8ms/step - loss: 0.0070 - accuracy: 0.9981 - val_loss: 0.0142 - val_accuracy: 0.9957 - lr: 1.7180e-27\n",
            "Epoch 19/30\n",
            "624/624 [==============================] - 5s 8ms/step - loss: 0.0069 - accuracy: 0.9978 - val_loss: 0.0143 - val_accuracy: 0.9957 - lr: 1.7180e-27\n",
            "Epoch 20/30\n",
            "624/624 [==============================] - 5s 8ms/step - loss: 0.0069 - accuracy: 0.9981 - val_loss: 0.0145 - val_accuracy: 0.9948 - lr: 1.7180e-27\n",
            "Epoch 21/30\n",
            "624/624 [==============================] - 5s 8ms/step - loss: 0.0066 - accuracy: 0.9978 - val_loss: 0.0144 - val_accuracy: 0.9952 - lr: 3.4360e-28\n",
            "Epoch 22/30\n",
            "624/624 [==============================] - 5s 8ms/step - loss: 0.0072 - accuracy: 0.9979 - val_loss: 0.0144 - val_accuracy: 0.9952 - lr: 3.4360e-28\n",
            "Epoch 23/30\n",
            "624/624 [==============================] - 5s 8ms/step - loss: 0.0067 - accuracy: 0.9980 - val_loss: 0.0143 - val_accuracy: 0.9952 - lr: 6.8719e-29\n",
            "Epoch 24/30\n",
            "624/624 [==============================] - 5s 8ms/step - loss: 0.0073 - accuracy: 0.9976 - val_loss: 0.0146 - val_accuracy: 0.9948 - lr: 6.8719e-29\n",
            "Epoch 25/30\n",
            "624/624 [==============================] - 5s 8ms/step - loss: 0.0069 - accuracy: 0.9977 - val_loss: 0.0143 - val_accuracy: 0.9952 - lr: 1.3744e-29\n",
            "Epoch 26/30\n",
            "624/624 [==============================] - 5s 8ms/step - loss: 0.0073 - accuracy: 0.9980 - val_loss: 0.0143 - val_accuracy: 0.9952 - lr: 1.3744e-29\n",
            "Epoch 27/30\n",
            "624/624 [==============================] - 5s 8ms/step - loss: 0.0072 - accuracy: 0.9977 - val_loss: 0.0144 - val_accuracy: 0.9948 - lr: 2.7488e-30\n",
            "Epoch 28/30\n",
            "624/624 [==============================] - 5s 8ms/step - loss: 0.0070 - accuracy: 0.9979 - val_loss: 0.0144 - val_accuracy: 0.9948 - lr: 2.7488e-30\n",
            "Epoch 29/30\n",
            "624/624 [==============================] - 5s 8ms/step - loss: 0.0068 - accuracy: 0.9981 - val_loss: 0.0143 - val_accuracy: 0.9952 - lr: 5.4976e-31\n",
            "Epoch 30/30\n",
            "624/624 [==============================] - 5s 8ms/step - loss: 0.0076 - accuracy: 0.9978 - val_loss: 0.0145 - val_accuracy: 0.9948 - lr: 5.4976e-31\n"
          ],
          "name": "stdout"
        }
      ]
    },
    {
      "cell_type": "code",
      "metadata": {
        "id": "Ku4GlfnI6BcA",
        "colab_type": "code",
        "colab": {
          "base_uri": "https://localhost:8080/",
          "height": 563
        },
        "outputId": "008f7919-c596-46de-b593-672235803837"
      },
      "source": [
        "%matplotlib inline\n",
        "\n",
        "import matplotlib.image  as mpimg\n",
        "import matplotlib.pyplot as plt\n",
        "\n",
        "#-----------------------------------------------------------\n",
        "# Retrieve a list of list results on training and test data\n",
        "# sets for each training epoch\n",
        "#-----------------------------------------------------------\n",
        "acc=history.history['accuracy']\n",
        "val_acc=history.history['val_accuracy']\n",
        "loss=history.history['loss']\n",
        "val_loss=history.history['val_loss']\n",
        "\n",
        "epochs=range(len(acc)) # Get number of epochs\n",
        "\n",
        "#------------------------------------------------\n",
        "# Plot training and validation accuracy per epoch\n",
        "#------------------------------------------------\n",
        "plt.plot(epochs, acc, 'r', \"Training Accuracy\")\n",
        "plt.plot(epochs, val_acc, 'b', \"Validation Accuracy\")\n",
        "plt.title('Training and validation accuracy')\n",
        "plt.figure()\n",
        "\n",
        "#------------------------------------------------\n",
        "# Plot training and validation loss per epoch\n",
        "#------------------------------------------------\n",
        "plt.plot(epochs, loss, 'r', \"Training Loss\")\n",
        "plt.plot(epochs, val_loss, 'b', \"Validation Loss\")\n",
        "plt.figure()"
      ],
      "execution_count": 41,
      "outputs": [
        {
          "output_type": "execute_result",
          "data": {
            "text/plain": [
              "<Figure size 432x288 with 0 Axes>"
            ]
          },
          "metadata": {
            "tags": []
          },
          "execution_count": 41
        },
        {
          "output_type": "display_data",
          "data": {
            "image/png": "[encoded data removed]",
            "text/plain": [
              "<Figure size 432x288 with 1 Axes>"
            ]
          },
          "metadata": {
            "tags": [],
            "needs_background": "light"
          }
        },
        {
          "output_type": "display_data",
          "data": {
            "image/png": "[encoded data removed]",
            "text/plain": [
              "<Figure size 432x288 with 1 Axes>"
            ]
          },
          "metadata": {
            "tags": [],
            "needs_background": "light"
          }
        },
        {
          "output_type": "display_data",
          "data": {
            "text/plain": [
              "<Figure size 432x288 with 0 Axes>"
            ]
          },
          "metadata": {
            "tags": []
          }
        }
      ]
    },
    {
      "cell_type": "code",
      "metadata": {
        "id": "7vC-6K1e6BcB",
        "colab_type": "code",
        "colab": {}
      },
      "source": [
        ""
      ],
      "execution_count": 0,
      "outputs": []
    },
    {
      "cell_type": "markdown",
      "metadata": {
        "id": "xir0WKsj6BcD",
        "colab_type": "text"
      },
      "source": [
        "### Submission"
      ]
    },
    {
      "cell_type": "code",
      "metadata": {
        "id": "GlAE5LSp6BcE",
        "colab_type": "code",
        "colab": {}
      },
      "source": [
        "results = LeNet5Model.predict(X_test)\n",
        "results = np.argmax(results,axis = 1)\n",
        "results = pd.Series(results,name=\"Label\")"
      ],
      "execution_count": 0,
      "outputs": []
    },
    {
      "cell_type": "code",
      "metadata": {
        "id": "-w33Crgt6BcH",
        "colab_type": "code",
        "colab": {}
      },
      "source": [
        "submission = pd.concat([pd.Series(range(1,28001),name = \"ImageId\"),results],axis = 1)\n",
        "submission.to_csv(\"LeNetv2.csv\",index=False)"
      ],
      "execution_count": 0,
      "outputs": []
    },
    {
      "cell_type": "code",
      "metadata": {
        "id": "mA-Gf-JZ6BcK",
        "colab_type": "code",
        "colab": {}
      },
      "source": [
        ""
      ],
      "execution_count": 0,
      "outputs": []
    },
    {
      "cell_type": "markdown",
      "metadata": {
        "id": "ibAgbyo16BcM",
        "colab_type": "text"
      },
      "source": [
        "### References\n",
        "\n",
        "* **Yassine Ghouzam**, PhD - Parameters for Data Augmentation using Image Data Generator, Variable Learning Rate using ReduceLROnPlateau (https://www.kaggle.com/yassineghouzam/introduction-to-cnn-keras-0-997-top-6)\n",
        "\n",
        "* **Taavish Thaman** - LeNet-5 Keras (https://github.com/TaavishThaman/LeNet-5-with-Keras)"
      ]
    }
  ]
}