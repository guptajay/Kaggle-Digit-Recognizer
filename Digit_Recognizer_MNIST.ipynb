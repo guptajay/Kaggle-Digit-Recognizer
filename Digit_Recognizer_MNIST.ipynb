{
  "nbformat": 4,
  "nbformat_minor": 0,
  "metadata": {
    "kernelspec": {
      "name": "python3",
      "display_name": "Python 3"
    },
    "colab": {
      "name": "Digit-Recognizer-MNIST.ipynb",
      "provenance": [],
      "collapsed_sections": []
    },
    "accelerator": "GPU"
  },
  "cells": [
    {
      "cell_type": "markdown",
      "metadata": {
        "id": "BRu2Rkzp6BbS",
        "colab_type": "text"
      },
      "source": [
        "# [Kaggle] Digit Recognizer \n",
        "\n",
        "MNIST (\"Modified National Institute of Standards and Technology\") is the de facto “hello world” dataset of computer vision. Since its release in 1999, this classic dataset of handwritten images has served as the basis for benchmarking classification algorithms. As new machine learning techniques emerge, MNIST remains a reliable resource for researchers and learners alike.\n",
        "\n",
        "In this competition, our goal is to correctly identify digits from a dataset of tens of thousands of handwritten images.\n",
        "\n",
        "> https://www.kaggle.com/c/digit-recognizer"
      ]
    },
    {
      "cell_type": "code",
      "metadata": {
        "id": "rIGF9uL86BbU",
        "colab_type": "code",
        "colab": {}
      },
      "source": [
        "import tensorflow as tf\n",
        "import numpy as np\n",
        "from tensorflow.keras.layers import Input, Conv2D, MaxPooling2D, Dense, Flatten, Dropout, Activation, BatchNormalization\n",
        "from tensorflow.keras.models import Model, Sequential\n",
        "from tensorflow.keras.utils import to_categorical\n",
        "from tensorflow.keras.preprocessing.image import ImageDataGenerator\n",
        "from tensorflow.keras.regularizers import l2\n",
        "from tensorflow.keras.callbacks import ReduceLROnPlateau\n",
        "from sklearn.model_selection import train_test_split\n",
        "import matplotlib.pyplot as plt\n",
        "import pandas as pd\n",
        "import math"
      ],
      "execution_count": 0,
      "outputs": []
    },
    {
      "cell_type": "code",
      "metadata": {
        "id": "b-6lKxc-6BbX",
        "colab_type": "code",
        "outputId": "cded106e-5ca5-4289-989d-caf40e0aa759",
        "colab": {
          "base_uri": "https://localhost:8080/",
          "height": 34
        }
      },
      "source": [
        "print(tf.__version__)"
      ],
      "execution_count": 100,
      "outputs": [
        {
          "output_type": "stream",
          "text": [
            "2.2.0-rc3\n"
          ],
          "name": "stdout"
        }
      ]
    },
    {
      "cell_type": "markdown",
      "metadata": {
        "id": "Cva2pBRm6Bbb",
        "colab_type": "text"
      },
      "source": [
        "## Model\n",
        "\n",
        "### Implemented a modified LeNet-5. \n",
        "\n",
        "**LeNet-5** - GradientBased Learning Applied to Document Recognition (Yann LeCun Leon Bottou Yoshua Bengio and Patrick Haffner) (http://vision.stanford.edu/cs598_spring07/papers/Lecun98.pdf)\n",
        "\n",
        "### [LeNet-5] Original Architecture\n",
        "\n",
        "ConvNet --> Pool --> ConvNet --> Pool --> (Flatten) --> FullyConnected --> FullyConnected --> Softmax \n",
        "\n",
        "### Results\n",
        "\n",
        "**epochs** - 30  \n",
        "**loss** - 0.0016  \n",
        "**train_accuracy** -  0.9998  \n",
        "**val_loss** -  0.0412  \n",
        "**val_accuracy** - 0.9905  \n",
        "\n",
        "#### Highest Dev Set Accuracy Obtained - 99.05%"
      ]
    },
    {
      "cell_type": "code",
      "metadata": {
        "id": "zzwT2Buy6Bbc",
        "colab_type": "code",
        "colab": {}
      },
      "source": [
        "def LeNet5(input_shape = (32, 32, 1), classes = 10):\n",
        "    \"\"\"\n",
        "    Implementation of a modified LeNet-5.\n",
        "    Modified Architecture -- ConvNet --> Pool --> ConvNet --> Pool --> (Flatten) --> FullyConnected --> FullyConnected --> Softmax \n",
        "\n",
        "    Arguments:\n",
        "    input_shape -- shape of the images of the dataset\n",
        "    classes -- integer, number of classes\n",
        "\n",
        "    Returns:\n",
        "    model -- a Model() instance in Keras\n",
        "    \"\"\"\n",
        "    \n",
        "    model = Sequential([\n",
        "        \n",
        "    # Layer 1\n",
        "    Conv2D(filters = 6, kernel_size = 5, strides = 1, activation = 'relu', input_shape = (32,32,1), name = 'convolution_1'),\n",
        "    MaxPooling2D(pool_size = 2, strides = 2, name = 'max_pool_1'),\n",
        "        \n",
        "    # Layer 2\n",
        "    Conv2D(filters = 16, kernel_size = 5, strides = 1, activation = 'relu', name = 'convolution_2'),\n",
        "    MaxPooling2D(pool_size = 2, strides = 2, name = 'max_pool_2'),\n",
        "        \n",
        "    # Layer 3\n",
        "    Flatten(name = 'flatten'),\n",
        "    Dense(units = 120, activation = 'relu', name = 'fully_connected_1'),\n",
        "        \n",
        "    # Layer 4\n",
        "    Dense(units = 84, activation = 'relu', name = 'fully_connected_2'),\n",
        "    \n",
        "    # Output\n",
        "    Dense(units = 10, activation = 'softmax', name = 'output')\n",
        "        \n",
        "    ])\n",
        "    \n",
        "    model._name = 'LeNet5'\n",
        "\n",
        "    return model"
      ],
      "execution_count": 0,
      "outputs": []
    },
    {
      "cell_type": "markdown",
      "metadata": {
        "id": "LlJQLCOX6Bbe",
        "colab_type": "text"
      },
      "source": [
        "### [LeNet-5] Modified Architecture\n",
        "\n",
        "ConvNet --> **ConvNet** --> Pool --> **(Dropout)** --> ConvNet --> Pool --> **(Dropout)** --> (Flatten) --> FullyConnected --> FullyConnected --> Softmax \n",
        "\n",
        "### Results\n",
        "\n",
        "**epochs** - 30  \n",
        "**loss** - 0.0319  \n",
        "**train_accuracy** -  0.9918  \n",
        "**val_loss** -  0.0327  \n",
        "**val_accuracy** - 0.9929  \n",
        "\n",
        "#### Highest Dev Set Accuracy Obtained - 99.29%"
      ]
    },
    {
      "cell_type": "code",
      "metadata": {
        "id": "O38-h8R86Bbf",
        "colab_type": "code",
        "colab": {}
      },
      "source": [
        "def LeNet5v1(input_shape = (32, 32, 1), classes = 10):\n",
        "    \"\"\"\n",
        "    Implementation of a modified LeNet-5.\n",
        "    Modified Architecture -- ConvNet --> ConvNet --> Pool --> (Dropout) --> ConvNet --> Pool --> (Dropout) --> (Flatten) --> FullyConnected --> FullyConnected --> Softmax \n",
        "\n",
        "    Arguments:\n",
        "    input_shape -- shape of the images of the dataset\n",
        "    classes -- integer, number of classes\n",
        "\n",
        "    Returns:\n",
        "    model -- a Model() instance in Keras\n",
        "    \"\"\"\n",
        "    \n",
        "    model = Sequential([\n",
        "        \n",
        "    # Layer 1\n",
        "    Conv2D(filters = 6, kernel_size = 5, strides = 1, activation = 'relu', input_shape = (32,32,1), name = 'convolution_1'),\n",
        "    \n",
        "    # Layer 2    \n",
        "    Conv2D(filters = 6, kernel_size = 5, strides = 1, activation = 'relu', name = 'convolution_2'),\n",
        "    \n",
        "    # -------------------------------- # \n",
        "    MaxPooling2D(pool_size = 2, strides = 2, name = 'max_pool_1'),\n",
        "    Dropout(0.25, name = 'dropout_1'),\n",
        "    # -------------------------------- # \n",
        "        \n",
        "    # Layer 3\n",
        "    Conv2D(filters = 16, kernel_size = 5, strides = 1, activation = 'relu', kernel_regularizer = l2(0.01), name = 'convolution_3'),\n",
        "    \n",
        "    # -------------------------------- # \n",
        "    MaxPooling2D(pool_size = 2, strides = 2, name = 'max_pool_2'),\n",
        "    Dropout(0.25, name = 'dropout_2'),\n",
        "    Flatten(name = 'flatten'),\n",
        "    # -------------------------------- # \n",
        "        \n",
        "    # Layer 4\n",
        "    Dense(units = 120, activation = 'relu', name = 'fully_connected_1'),\n",
        "        \n",
        "    # Layer 5\n",
        "    Dense(units = 84, activation = 'relu', name = 'fully_connected_2'),\n",
        "    \n",
        "    # Output\n",
        "    Dense(units = 10, activation = 'softmax', name = 'output')\n",
        "        \n",
        "    ])\n",
        "    \n",
        "    model._name = 'LeNet5v1'\n",
        "\n",
        "    return model"
      ],
      "execution_count": 0,
      "outputs": []
    },
    {
      "cell_type": "markdown",
      "metadata": {
        "id": "VmJKdBrC6Bbi",
        "colab_type": "text"
      },
      "source": [
        "### [LeNet-5] Modified Architecture\n",
        "\n",
        "ConvNet --> **ConvNet** --> **BatchNorm** --> Pool --> **(Dropout)** --> ConvNet --> **ConvNet** --> **BatchNorm** --> Pool --> **(Dropout)** --> (Flatten) --> **FullyConnected** --> **BatchNorm** --> FullyConnected --> **BatchNorm** --> FullyConnected --> **BatchNorm** --> **(Dropout)** --> Softmax \n",
        "\n",
        "### Results\n",
        "\n",
        "**epochs** - 30  \n",
        "**loss** - 0.0112  \n",
        "**train_accuracy** - 0.9982   \n",
        "**val_loss** -  0.0192  \n",
        "**val_accuracy** - 0.9962  \n",
        "\n",
        "#### Highest Dev Set Accuracy Obtained - 99.62%"
      ]
    },
    {
      "cell_type": "code",
      "metadata": {
        "id": "vP3BMEMy6Bbi",
        "colab_type": "code",
        "colab": {}
      },
      "source": [
        "def LeNet5v2(input_shape = (32, 32, 1), classes = 10):\n",
        "    \"\"\"\n",
        "    Implementation of a modified LeNet-5.\n",
        "    Only those layers with learnable parameters are counted in the layer numbering.\n",
        "    \n",
        "    Arguments:\n",
        "    input_shape -- shape of the images of the dataset\n",
        "    classes -- integer, number of classes\n",
        "\n",
        "    Returns:\n",
        "    model -- a Model() instance in Keras\n",
        "    \"\"\"\n",
        "    \n",
        "    model = Sequential([\n",
        "        \n",
        "    # Layer 1\n",
        "    Conv2D(filters = 32, kernel_size = 5, strides = 1, activation = 'relu', input_shape = (32,32,1), kernel_regularizer=l2(0.0005), name = 'convolution_1'),\n",
        "    \n",
        "    # Layer 2\n",
        "    Conv2D(filters = 32, kernel_size = 5, strides = 1, name = 'convolution_2', use_bias=False),\n",
        "    \n",
        "    # Layer 3    \n",
        "    BatchNormalization(name = 'batchnorm_1'),\n",
        "        \n",
        "    # -------------------------------- #  \n",
        "    Activation(\"relu\"),\n",
        "    MaxPooling2D(pool_size = 2, strides = 2, name = 'max_pool_1'),\n",
        "    Dropout(0.25, name = 'dropout_1'),\n",
        "    # -------------------------------- #  \n",
        "        \n",
        "    # Layer 3\n",
        "    Conv2D(filters = 64, kernel_size = 3, strides = 1, activation = 'relu', kernel_regularizer=l2(0.0005), name = 'convolution_3'),\n",
        "        \n",
        "    # Layer 4\n",
        "    Conv2D(filters = 64, kernel_size = 3, strides = 1, name = 'convolution_4', use_bias=False),\n",
        "        \n",
        "    # Layer 5\n",
        "    BatchNormalization(name = 'batchnorm_2'),\n",
        "        \n",
        "    # -------------------------------- #  \n",
        "    Activation(\"relu\"),\n",
        "    MaxPooling2D(pool_size = 2, strides = 2, name = 'max_pool_2'),\n",
        "    Dropout(0.25, name = 'dropout_2'),\n",
        "    Flatten(name = 'flatten'),\n",
        "    # -------------------------------- #  \n",
        "        \n",
        "    # Layer 6\n",
        "    Dense(units = 256, name = 'fully_connected_1', use_bias=False),\n",
        "        \n",
        "    # Layer 7\n",
        "    BatchNormalization(name = 'batchnorm_3'),\n",
        "    \n",
        "    # -------------------------------- #  \n",
        "    Activation(\"relu\"),\n",
        "    # -------------------------------- #  \n",
        "        \n",
        "    # Layer 8\n",
        "    Dense(units = 128, name = 'fully_connected_2', use_bias=False),\n",
        "        \n",
        "    # Layer 9\n",
        "    BatchNormalization(name = 'batchnorm_4'),\n",
        "        \n",
        "    # -------------------------------- #  \n",
        "    Activation(\"relu\"),\n",
        "    # -------------------------------- #  \n",
        "        \n",
        "    # Layer 10\n",
        "    Dense(units = 84, name = 'fully_connected_3', use_bias=False),\n",
        "        \n",
        "    # Layer 11\n",
        "    BatchNormalization(name = 'batchnorm_5'),\n",
        "        \n",
        "    # -------------------------------- #  \n",
        "    Activation(\"relu\"),\n",
        "    Dropout(0.25, name = 'dropout_3'),\n",
        "    # -------------------------------- #  \n",
        "\n",
        "    # Output\n",
        "    Dense(units = 10, activation = 'softmax', name = 'output')\n",
        "        \n",
        "    ])\n",
        "    \n",
        "    model._name = 'LeNet5v2'\n",
        "\n",
        "    return model"
      ],
      "execution_count": 0,
      "outputs": []
    },
    {
      "cell_type": "code",
      "metadata": {
        "id": "KPVOreYI6Bbl",
        "colab_type": "code",
        "colab": {}
      },
      "source": [
        "LeNet5Model = LeNet5v2(input_shape = (32, 32, 1), classes = 10)"
      ],
      "execution_count": 0,
      "outputs": []
    },
    {
      "cell_type": "code",
      "metadata": {
        "id": "_WE7wIWR6Bbn",
        "colab_type": "code",
        "colab": {}
      },
      "source": [
        "LeNet5Model.compile(optimizer='adam', loss='categorical_crossentropy', metrics=['accuracy'])"
      ],
      "execution_count": 0,
      "outputs": []
    },
    {
      "cell_type": "code",
      "metadata": {
        "id": "bKRpyBC56Bbq",
        "colab_type": "code",
        "outputId": "522bc0a2-1de9-4797-ed92-d276df4bd3bc",
        "colab": {
          "base_uri": "https://localhost:8080/",
          "height": 969
        }
      },
      "source": [
        "LeNet5Model.summary()"
      ],
      "execution_count": 106,
      "outputs": [
        {
          "output_type": "stream",
          "text": [
            "Model: \"LeNet5v2\"\n",
            "_________________________________________________________________\n",
            "Layer (type)                 Output Shape              Param #   \n",
            "=================================================================\n",
            "convolution_1 (Conv2D)       (None, 28, 28, 32)        832       \n",
            "_________________________________________________________________\n",
            "convolution_2 (Conv2D)       (None, 24, 24, 32)        25600     \n",
            "_________________________________________________________________\n",
            "batchnorm_1 (BatchNormalizat (None, 24, 24, 32)        128       \n",
            "_________________________________________________________________\n",
            "activation_40 (Activation)   (None, 24, 24, 32)        0         \n",
            "_________________________________________________________________\n",
            "max_pool_1 (MaxPooling2D)    (None, 12, 12, 32)        0         \n",
            "_________________________________________________________________\n",
            "dropout_1 (Dropout)          (None, 12, 12, 32)        0         \n",
            "_________________________________________________________________\n",
            "convolution_3 (Conv2D)       (None, 10, 10, 64)        18496     \n",
            "_________________________________________________________________\n",
            "convolution_4 (Conv2D)       (None, 8, 8, 64)          36864     \n",
            "_________________________________________________________________\n",
            "batchnorm_2 (BatchNormalizat (None, 8, 8, 64)          256       \n",
            "_________________________________________________________________\n",
            "activation_41 (Activation)   (None, 8, 8, 64)          0         \n",
            "_________________________________________________________________\n",
            "max_pool_2 (MaxPooling2D)    (None, 4, 4, 64)          0         \n",
            "_________________________________________________________________\n",
            "dropout_2 (Dropout)          (None, 4, 4, 64)          0         \n",
            "_________________________________________________________________\n",
            "flatten (Flatten)            (None, 1024)              0         \n",
            "_________________________________________________________________\n",
            "fully_connected_1 (Dense)    (None, 256)               262144    \n",
            "_________________________________________________________________\n",
            "batchnorm_3 (BatchNormalizat (None, 256)               1024      \n",
            "_________________________________________________________________\n",
            "activation_42 (Activation)   (None, 256)               0         \n",
            "_________________________________________________________________\n",
            "fully_connected_2 (Dense)    (None, 128)               32768     \n",
            "_________________________________________________________________\n",
            "batchnorm_4 (BatchNormalizat (None, 128)               512       \n",
            "_________________________________________________________________\n",
            "activation_43 (Activation)   (None, 128)               0         \n",
            "_________________________________________________________________\n",
            "fully_connected_3 (Dense)    (None, 84)                10752     \n",
            "_________________________________________________________________\n",
            "batchnorm_5 (BatchNormalizat (None, 84)                336       \n",
            "_________________________________________________________________\n",
            "activation_44 (Activation)   (None, 84)                0         \n",
            "_________________________________________________________________\n",
            "dropout_3 (Dropout)          (None, 84)                0         \n",
            "_________________________________________________________________\n",
            "output (Dense)               (None, 10)                850       \n",
            "=================================================================\n",
            "Total params: 390,562\n",
            "Trainable params: 389,434\n",
            "Non-trainable params: 1,128\n",
            "_________________________________________________________________\n"
          ],
          "name": "stdout"
        }
      ]
    },
    {
      "cell_type": "code",
      "metadata": {
        "id": "1rH9irWw6Bbs",
        "colab_type": "code",
        "colab": {}
      },
      "source": [
        ""
      ],
      "execution_count": 0,
      "outputs": []
    },
    {
      "cell_type": "markdown",
      "metadata": {
        "id": "_9Jw_5Yy6Bbu",
        "colab_type": "text"
      },
      "source": [
        "## Kaggle Data Processing"
      ]
    },
    {
      "cell_type": "code",
      "metadata": {
        "scrolled": true,
        "id": "NvBD5ecM6Bbv",
        "colab_type": "code",
        "outputId": "b5ca9e93-3e5d-4112-c250-68ef7439b476",
        "colab": {
          "base_uri": "https://localhost:8080/",
          "height": 316
        }
      },
      "source": [
        "train = pd.read_csv('train.csv')\n",
        "test = pd.read_csv('test.csv')\n",
        "\n",
        "Y = train[['label']]\n",
        "X = train.drop(train.columns[[0]], axis=1)\n",
        "\n",
        "X = X.values.reshape(-1,28,28,1)\n",
        "test = test.values.reshape(-1,28,28,1)\n",
        "\n",
        "print(\"Size of Dataset: \" , len(X))\n",
        "\n",
        "cross_validation_size = int(len(X)*0.05)\n",
        "\n",
        "print(\"Size of Cross Validation Set: \" , cross_validation_size)\n",
        "\n",
        "random_seed = 2\n",
        "X_train, X_val, Y_train, Y_val = train_test_split(X, Y, test_size = cross_validation_size, random_state=random_seed)\n",
        "\n",
        "X_test = test\n",
        "\n",
        "plt.imshow(X_train[0][:,:,0])"
      ],
      "execution_count": 107,
      "outputs": [
        {
          "output_type": "stream",
          "text": [
            "Size of Dataset:  42000\n",
            "Size of Cross Validation Set:  2100\n"
          ],
          "name": "stdout"
        },
        {
          "output_type": "execute_result",
          "data": {
            "text/plain": [
              "<matplotlib.image.AxesImage at 0x7fe4c9d11be0>"
            ]
          },
          "metadata": {
            "tags": []
          },
          "execution_count": 107
        },
        {
          "output_type": "display_data",
          "data": {
            "image/png": "[encoded data removed]",
            "text/plain": [
              "<Figure size 432x288 with 1 Axes>"
            ]
          },
          "metadata": {
            "tags": [],
            "needs_background": "light"
          }
        }
      ]
    },
    {
      "cell_type": "code",
      "metadata": {
        "id": "05nGMrbm6Bbx",
        "colab_type": "code",
        "colab": {}
      },
      "source": [
        "X_train = np.array(X_train)\n",
        "X_val = np.array(X_val)\n",
        "X_test = np.array(X_test)\n",
        "\n",
        "# Padding the images by 2 pixels since in the paper input images were 32x32\n",
        "X_train = np.pad(X_train, ((0,0),(2,2),(2,2),(0,0)), 'constant')\n",
        "X_val = np.pad(X_val, ((0,0),(2,2),(2,2),(0,0)), 'constant')\n",
        "X_test = np.pad(X_test, ((0,0),(2,2),(2,2),(0,0)), 'constant')\n",
        "\n",
        "# Standardization\n",
        "mean_px = X_train.mean().astype(np.float32)\n",
        "std_px = X_train.std().astype(np.float32)\n",
        "X_train = (X_train - mean_px)/(std_px)\n",
        "\n",
        "mean_px = X_val.mean().astype(np.float32)\n",
        "std_px = X_val.std().astype(np.float32)\n",
        "X_val = (X_val - mean_px)/(std_px)\n",
        "\n",
        "mean_px = X_test.mean().astype(np.float32)\n",
        "std_px = X_test.std().astype(np.float32)\n",
        "X_test = (X_test - mean_px)/(std_px)\n",
        "\n",
        "# One-hot encoding the labels\n",
        "Y_train = to_categorical(Y_train, num_classes = 10)\n",
        "Y_val = to_categorical(Y_val, num_classes = 10)"
      ],
      "execution_count": 0,
      "outputs": []
    },
    {
      "cell_type": "code",
      "metadata": {
        "id": "C-EpjOba6Bb0",
        "colab_type": "code",
        "colab": {}
      },
      "source": [
        "# By using the image generator, we are not generating new data. We are only replacing the exisiting images. \n",
        "\n",
        "datagen = ImageDataGenerator(\n",
        "        featurewise_center = False,  # set input mean to 0 over the dataset\n",
        "        samplewise_center = False,  # set each sample mean to 0\n",
        "        featurewise_std_normalization = False,  # divide inputs by std of the dataset\n",
        "        samplewise_std_normalization = False,  # divide each input by its std\n",
        "        zca_whitening = False,  # apply ZCA whitening\n",
        "        rotation_range = 10,  # randomly rotate images in the range (degrees, 0 to 180)\n",
        "        zoom_range = 0.1, # Randomly zoom image \n",
        "        width_shift_range = 0.1,  # randomly shift images horizontally (fraction of total width)\n",
        "        height_shift_range = 0.1,  # randomly shift images vertically (fraction of total height)\n",
        "        horizontal_flip = False,  # randomly flip images\n",
        "        vertical_flip = False)  # randomly flip images\n",
        "\n",
        "datagen.fit(X_train)"
      ],
      "execution_count": 0,
      "outputs": []
    },
    {
      "cell_type": "code",
      "metadata": {
        "id": "h1K3pH4W6Bb2",
        "colab_type": "code",
        "colab": {}
      },
      "source": [
        ""
      ],
      "execution_count": 0,
      "outputs": []
    },
    {
      "cell_type": "markdown",
      "metadata": {
        "id": "Ti9fic6R6Bb4",
        "colab_type": "text"
      },
      "source": [
        "### Variable Learning Rate "
      ]
    },
    {
      "cell_type": "code",
      "metadata": {
        "id": "QzelRWLT6Bb5",
        "colab_type": "code",
        "colab": {}
      },
      "source": [
        "variable_learning_rate = ReduceLROnPlateau(monitor='val_loss', factor = 0.2, patience = 2)"
      ],
      "execution_count": 0,
      "outputs": []
    },
    {
      "cell_type": "code",
      "metadata": {
        "id": "NmnLaU1h6Bb7",
        "colab_type": "code",
        "colab": {}
      },
      "source": [
        ""
      ],
      "execution_count": 0,
      "outputs": []
    },
    {
      "cell_type": "markdown",
      "metadata": {
        "id": "DBY7Qi_G6Bb9",
        "colab_type": "text"
      },
      "source": [
        "### Model Training"
      ]
    },
    {
      "cell_type": "code",
      "metadata": {
        "scrolled": false,
        "id": "8aFRDFKK6Bb9",
        "colab_type": "code",
        "outputId": "fb57cda5-7d85-4388-ddad-67adc60041ce",
        "colab": {
          "base_uri": "https://localhost:8080/",
          "height": 1000
        }
      },
      "source": [
        "history = LeNet5Model.fit(X_train, Y_train, epochs = 30, batch_size = 64, callbacks = [variable_learning_rate], validation_data = (X_val,Y_val))"
      ],
      "execution_count": 111,
      "outputs": [
        {
          "output_type": "stream",
          "text": [
            "624/624 [==============================] - 4s 6ms/step - loss: 0.0658 - accuracy: 0.9851 - val_loss: 0.0573 - val_accuracy: 0.9886 - lr: 0.0010\n",
            "Epoch 5/30\n",
            "624/624 [==============================] - 4s 6ms/step - loss: 0.0548 - accuracy: 0.9877 - val_loss: 0.0498 - val_accuracy: 0.9905 - lr: 0.0010\n",
            "Epoch 6/30\n",
            "624/624 [==============================] - 4s 6ms/step - loss: 0.0515 - accuracy: 0.9877 - val_loss: 0.0418 - val_accuracy: 0.9910 - lr: 0.0010\n",
            "Epoch 7/30\n",
            "624/624 [==============================] - 4s 6ms/step - loss: 0.0474 - accuracy: 0.9884 - val_loss: 0.0334 - val_accuracy: 0.9905 - lr: 0.0010\n",
            "Epoch 8/30\n",
            "624/624 [==============================] - 4s 6ms/step - loss: 0.0452 - accuracy: 0.9895 - val_loss: 0.0378 - val_accuracy: 0.9914 - lr: 0.0010\n",
            "Epoch 9/30\n",
            "624/624 [==============================] - 4s 6ms/step - loss: 0.0405 - accuracy: 0.9903 - val_loss: 0.0310 - val_accuracy: 0.9948 - lr: 0.0010\n",
            "Epoch 10/30\n",
            "624/624 [==============================] - 4s 6ms/step - loss: 0.0389 - accuracy: 0.9907 - val_loss: 0.0300 - val_accuracy: 0.9943 - lr: 0.0010\n",
            "Epoch 11/30\n",
            "624/624 [==============================] - 4s 6ms/step - loss: 0.0358 - accuracy: 0.9913 - val_loss: 0.0401 - val_accuracy: 0.9919 - lr: 0.0010\n",
            "Epoch 12/30\n",
            "624/624 [==============================] - 4s 6ms/step - loss: 0.0363 - accuracy: 0.9916 - val_loss: 0.0414 - val_accuracy: 0.9914 - lr: 0.0010\n",
            "Epoch 13/30\n",
            "624/624 [==============================] - 4s 6ms/step - loss: 0.0244 - accuracy: 0.9950 - val_loss: 0.0239 - val_accuracy: 0.9957 - lr: 2.0000e-04\n",
            "Epoch 14/30\n",
            "624/624 [==============================] - 4s 6ms/step - loss: 0.0186 - accuracy: 0.9968 - val_loss: 0.0221 - val_accuracy: 0.9962 - lr: 2.0000e-04\n",
            "Epoch 15/30\n",
            "624/624 [==============================] - 4s 6ms/step - loss: 0.0176 - accuracy: 0.9966 - val_loss: 0.0231 - val_accuracy: 0.9952 - lr: 2.0000e-04\n",
            "Epoch 16/30\n",
            "624/624 [==============================] - 4s 6ms/step - loss: 0.0164 - accuracy: 0.9969 - val_loss: 0.0196 - val_accuracy: 0.9957 - lr: 2.0000e-04\n",
            "Epoch 17/30\n",
            "624/624 [==============================] - 4s 6ms/step - loss: 0.0157 - accuracy: 0.9970 - val_loss: 0.0196 - val_accuracy: 0.9948 - lr: 2.0000e-04\n",
            "Epoch 18/30\n",
            "624/624 [==============================] - 4s 6ms/step - loss: 0.0151 - accuracy: 0.9967 - val_loss: 0.0229 - val_accuracy: 0.9933 - lr: 2.0000e-04\n",
            "Epoch 19/30\n",
            "624/624 [==============================] - 4s 6ms/step - loss: 0.0121 - accuracy: 0.9978 - val_loss: 0.0199 - val_accuracy: 0.9943 - lr: 4.0000e-05\n",
            "Epoch 20/30\n",
            "624/624 [==============================] - 4s 6ms/step - loss: 0.0120 - accuracy: 0.9978 - val_loss: 0.0207 - val_accuracy: 0.9952 - lr: 4.0000e-05\n",
            "Epoch 21/30\n",
            "624/624 [==============================] - 4s 6ms/step - loss: 0.0116 - accuracy: 0.9982 - val_loss: 0.0212 - val_accuracy: 0.9948 - lr: 8.0000e-06\n",
            "Epoch 22/30\n",
            "624/624 [==============================] - 4s 6ms/step - loss: 0.0112 - accuracy: 0.9982 - val_loss: 0.0205 - val_accuracy: 0.9948 - lr: 8.0000e-06\n",
            "Epoch 23/30\n",
            "624/624 [==============================] - 4s 6ms/step - loss: 0.0112 - accuracy: 0.9983 - val_loss: 0.0206 - val_accuracy: 0.9948 - lr: 1.6000e-06\n",
            "Epoch 24/30\n",
            "624/624 [==============================] - 4s 6ms/step - loss: 0.0111 - accuracy: 0.9982 - val_loss: 0.0204 - val_accuracy: 0.9948 - lr: 1.6000e-06\n",
            "Epoch 25/30\n",
            "624/624 [==============================] - 4s 6ms/step - loss: 0.0107 - accuracy: 0.9982 - val_loss: 0.0202 - val_accuracy: 0.9948 - lr: 3.2000e-07\n",
            "Epoch 26/30\n",
            "624/624 [==============================] - 4s 6ms/step - loss: 0.0114 - accuracy: 0.9982 - val_loss: 0.0207 - val_accuracy: 0.9948 - lr: 3.2000e-07\n",
            "Epoch 27/30\n",
            "624/624 [==============================] - 4s 6ms/step - loss: 0.0112 - accuracy: 0.9983 - val_loss: 0.0202 - val_accuracy: 0.9948 - lr: 6.4000e-08\n",
            "Epoch 28/30\n",
            "624/624 [==============================] - 4s 6ms/step - loss: 0.0115 - accuracy: 0.9980 - val_loss: 0.0202 - val_accuracy: 0.9948 - lr: 6.4000e-08\n",
            "Epoch 29/30\n",
            "624/624 [==============================] - 4s 6ms/step - loss: 0.0105 - accuracy: 0.9983 - val_loss: 0.0206 - val_accuracy: 0.9948 - lr: 1.2800e-08\n",
            "Epoch 30/30\n",
            "624/624 [==============================] - 4s 6ms/step - loss: 0.0120 - accuracy: 0.9979 - val_loss: 0.0201 - val_accuracy: 0.9948 - lr: 1.2800e-08\n",
            "Epoch 1/30\n",
            "624/624 [==============================] - 4s 6ms/step - loss: 0.2791 - accuracy: 0.9267 - val_loss: 0.0762 - val_accuracy: 0.9814 - lr: 0.0010\n",
            "Epoch 2/30\n",
            "624/624 [==============================] - 4s 6ms/step - loss: 0.0980 - accuracy: 0.9773 - val_loss: 0.0549 - val_accuracy: 0.9895 - lr: 0.0010\n",
            "Epoch 3/30\n",
            "624/624 [==============================] - 4s 6ms/step - loss: 0.0784 - accuracy: 0.9817 - val_loss: 0.0648 - val_accuracy: 0.9824 - lr: 0.0010\n",
            "Epoch 4/30\n",
            "624/624 [==============================] - 4s 6ms/step - loss: 0.0650 - accuracy: 0.9847 - val_loss: 0.0442 - val_accuracy: 0.9905 - lr: 0.0010\n",
            "Epoch 5/30\n",
            "624/624 [==============================] - 4s 6ms/step - loss: 0.0582 - accuracy: 0.9867 - val_loss: 0.0432 - val_accuracy: 0.9914 - lr: 0.0010\n",
            "Epoch 6/30\n",
            "624/624 [==============================] - 4s 6ms/step - loss: 0.0514 - accuracy: 0.9878 - val_loss: 0.0374 - val_accuracy: 0.9895 - lr: 0.0010\n",
            "Epoch 7/30\n",
            "624/624 [==============================] - 4s 6ms/step - loss: 0.0485 - accuracy: 0.9878 - val_loss: 0.0352 - val_accuracy: 0.9938 - lr: 0.0010\n",
            "Epoch 8/30\n",
            "624/624 [==============================] - 4s 6ms/step - loss: 0.0451 - accuracy: 0.9886 - val_loss: 0.0391 - val_accuracy: 0.9910 - lr: 0.0010\n",
            "Epoch 9/30\n",
            "624/624 [==============================] - 4s 6ms/step - loss: 0.0432 - accuracy: 0.9899 - val_loss: 0.0339 - val_accuracy: 0.9938 - lr: 0.0010\n",
            "Epoch 10/30\n",
            "624/624 [==============================] - 4s 6ms/step - loss: 0.0403 - accuracy: 0.9904 - val_loss: 0.0343 - val_accuracy: 0.9919 - lr: 0.0010\n",
            "Epoch 11/30\n",
            "624/624 [==============================] - 4s 6ms/step - loss: 0.0383 - accuracy: 0.9907 - val_loss: 0.0299 - val_accuracy: 0.9948 - lr: 0.0010\n",
            "Epoch 12/30\n",
            "624/624 [==============================] - 4s 6ms/step - loss: 0.0370 - accuracy: 0.9907 - val_loss: 0.0353 - val_accuracy: 0.9919 - lr: 0.0010\n",
            "Epoch 13/30\n",
            "624/624 [==============================] - 4s 6ms/step - loss: 0.0331 - accuracy: 0.9921 - val_loss: 0.0379 - val_accuracy: 0.9919 - lr: 0.0010\n",
            "Epoch 14/30\n",
            "624/624 [==============================] - 4s 6ms/step - loss: 0.0234 - accuracy: 0.9950 - val_loss: 0.0225 - val_accuracy: 0.9962 - lr: 2.0000e-04\n",
            "Epoch 15/30\n",
            "624/624 [==============================] - 4s 6ms/step - loss: 0.0193 - accuracy: 0.9961 - val_loss: 0.0234 - val_accuracy: 0.9962 - lr: 2.0000e-04\n",
            "Epoch 16/30\n",
            "624/624 [==============================] - 4s 6ms/step - loss: 0.0179 - accuracy: 0.9967 - val_loss: 0.0197 - val_accuracy: 0.9967 - lr: 2.0000e-04\n",
            "Epoch 17/30\n",
            "624/624 [==============================] - 4s 6ms/step - loss: 0.0168 - accuracy: 0.9966 - val_loss: 0.0205 - val_accuracy: 0.9962 - lr: 2.0000e-04\n",
            "Epoch 18/30\n",
            "624/624 [==============================] - 4s 6ms/step - loss: 0.0145 - accuracy: 0.9973 - val_loss: 0.0222 - val_accuracy: 0.9943 - lr: 2.0000e-04\n",
            "Epoch 19/30\n",
            "624/624 [==============================] - 4s 6ms/step - loss: 0.0132 - accuracy: 0.9971 - val_loss: 0.0195 - val_accuracy: 0.9962 - lr: 4.0000e-05\n",
            "Epoch 20/30\n",
            "624/624 [==============================] - 4s 6ms/step - loss: 0.0127 - accuracy: 0.9977 - val_loss: 0.0193 - val_accuracy: 0.9962 - lr: 4.0000e-05\n",
            "Epoch 21/30\n",
            "624/624 [==============================] - 4s 6ms/step - loss: 0.0124 - accuracy: 0.9977 - val_loss: 0.0191 - val_accuracy: 0.9962 - lr: 4.0000e-05\n",
            "Epoch 22/30\n",
            "624/624 [==============================] - 4s 6ms/step - loss: 0.0119 - accuracy: 0.9979 - val_loss: 0.0198 - val_accuracy: 0.9962 - lr: 4.0000e-05\n",
            "Epoch 23/30\n",
            "624/624 [==============================] - 4s 6ms/step - loss: 0.0117 - accuracy: 0.9977 - val_loss: 0.0191 - val_accuracy: 0.9957 - lr: 4.0000e-05\n",
            "Epoch 24/30\n",
            "624/624 [==============================] - 4s 6ms/step - loss: 0.0107 - accuracy: 0.9984 - val_loss: 0.0192 - val_accuracy: 0.9957 - lr: 8.0000e-06\n",
            "Epoch 25/30\n",
            "624/624 [==============================] - 4s 6ms/step - loss: 0.0110 - accuracy: 0.9982 - val_loss: 0.0192 - val_accuracy: 0.9957 - lr: 8.0000e-06\n",
            "Epoch 26/30\n",
            "624/624 [==============================] - 4s 6ms/step - loss: 0.0104 - accuracy: 0.9982 - val_loss: 0.0193 - val_accuracy: 0.9962 - lr: 1.6000e-06\n",
            "Epoch 27/30\n",
            "624/624 [==============================] - 4s 6ms/step - loss: 0.0107 - accuracy: 0.9982 - val_loss: 0.0193 - val_accuracy: 0.9962 - lr: 1.6000e-06\n",
            "Epoch 28/30\n",
            "624/624 [==============================] - 4s 6ms/step - loss: 0.0104 - accuracy: 0.9983 - val_loss: 0.0192 - val_accuracy: 0.9957 - lr: 3.2000e-07\n",
            "Epoch 29/30\n",
            "624/624 [==============================] - 4s 6ms/step - loss: 0.0108 - accuracy: 0.9982 - val_loss: 0.0191 - val_accuracy: 0.9957 - lr: 3.2000e-07\n",
            "Epoch 30/30\n",
            "624/624 [==============================] - 4s 6ms/step - loss: 0.0112 - accuracy: 0.9982 - val_loss: 0.0192 - val_accuracy: 0.9962 - lr: 6.4000e-08\n"
          ],
          "name": "stdout"
        }
      ]
    },
    {
      "cell_type": "code",
      "metadata": {
        "id": "Ku4GlfnI6BcA",
        "colab_type": "code",
        "outputId": "e4737e3b-6a59-4670-c8f5-698d5c9fcf53",
        "colab": {
          "base_uri": "https://localhost:8080/",
          "height": 1000
        }
      },
      "source": [
        "%matplotlib inline\n",
        "\n",
        "import matplotlib.image  as mpimg\n",
        "import matplotlib.pyplot as plt\n",
        "\n",
        "#-----------------------------------------------------------\n",
        "# Retrieve a list of list results on training and test data\n",
        "# sets for each training epoch\n",
        "#-----------------------------------------------------------\n",
        "acc=history.history['accuracy']\n",
        "val_acc=history.history['val_accuracy']\n",
        "loss=history.history['loss']\n",
        "val_loss=history.history['val_loss']\n",
        "\n",
        "epochs=range(len(acc)) # Get number of epochs\n",
        "\n",
        "#------------------------------------------------\n",
        "# Plot training and validation accuracy per epoch\n",
        "#------------------------------------------------\n",
        "plt.plot(epochs, acc, 'r', \"Training Accuracy\")\n",
        "plt.plot(epochs, val_acc, 'b', \"Validation Accuracy\")\n",
        "plt.title('Training and validation accuracy')\n",
        "plt.figure()\n",
        "\n",
        "#------------------------------------------------\n",
        "# Plot training and validation loss per epoch\n",
        "#------------------------------------------------\n",
        "plt.plot(epochs, loss, 'r', \"Training Loss\")\n",
        "plt.plot(epochs, val_loss, 'b', \"Validation Loss\")\n",
        "plt.figure()"
      ],
      "execution_count": 112,
      "outputs": [
        {
          "output_type": "execute_result",
          "data": {
            "text/plain": [
              "<Figure size 432x288 with 0 Axes>"
            ]
          },
          "metadata": {
            "tags": []
          },
          "execution_count": 96
        },
        {
          "output_type": "display_data",
          "data": {
            "image/png": "[encoded data removed]",
            "text/plain": [
              "<Figure size 432x288 with 1 Axes>"
            ]
          },
          "metadata": {
            "tags": [],
            "needs_background": "light"
          }
        },
        {
          "output_type": "display_data",
          "data": {
            "image/png": "[encoded data removed]",
            "text/plain": [
              "<Figure size 432x288 with 1 Axes>"
            ]
          },
          "metadata": {
            "tags": [],
            "needs_background": "light"
          }
        },
        {
          "output_type": "display_data",
          "data": {
            "text/plain": [
              "<Figure size 432x288 with 0 Axes>"
            ]
          },
          "metadata": {
            "tags": []
          }
        },
        {
          "output_type": "execute_result",
          "data": {
            "text/plain": [
              "<Figure size 432x288 with 0 Axes>"
            ]
          },
          "metadata": {
            "tags": []
          },
          "execution_count": 112
        },
        {
          "output_type": "display_data",
          "data": {
            "image/png": "[encoded data removed]",
            "text/plain": [
              "<Figure size 432x288 with 1 Axes>"
            ]
          },
          "metadata": {
            "tags": [],
            "needs_background": "light"
          }
        },
        {
          "output_type": "display_data",
          "data": {
            "image/png": "[encoded data removed]",
            "text/plain": [
              "<Figure size 432x288 with 1 Axes>"
            ]
          },
          "metadata": {
            "tags": [],
            "needs_background": "light"
          }
        },
        {
          "output_type": "display_data",
          "data": {
            "text/plain": [
              "<Figure size 432x288 with 0 Axes>"
            ]
          },
          "metadata": {
            "tags": []
          }
        }
      ]
    },
    {
      "cell_type": "code",
      "metadata": {
        "id": "7vC-6K1e6BcB",
        "colab_type": "code",
        "colab": {}
      },
      "source": [
        ""
      ],
      "execution_count": 0,
      "outputs": []
    },
    {
      "cell_type": "markdown",
      "metadata": {
        "id": "xir0WKsj6BcD",
        "colab_type": "text"
      },
      "source": [
        "### Submission"
      ]
    },
    {
      "cell_type": "code",
      "metadata": {
        "id": "GlAE5LSp6BcE",
        "colab_type": "code",
        "colab": {}
      },
      "source": [
        "results = LeNet5Model.predict(X_test)\n",
        "results = np.argmax(results,axis = 1)\n",
        "results = pd.Series(results,name=\"Label\")"
      ],
      "execution_count": 0,
      "outputs": []
    },
    {
      "cell_type": "code",
      "metadata": {
        "id": "-w33Crgt6BcH",
        "colab_type": "code",
        "colab": {}
      },
      "source": [
        "submission = pd.concat([pd.Series(range(1,28001),name = \"ImageId\"),results],axis = 1)\n",
        "submission.to_csv(\"LeNetv2.csv\",index=False)"
      ],
      "execution_count": 0,
      "outputs": []
    },
    {
      "cell_type": "code",
      "metadata": {
        "id": "mA-Gf-JZ6BcK",
        "colab_type": "code",
        "colab": {}
      },
      "source": [
        ""
      ],
      "execution_count": 0,
      "outputs": []
    },
    {
      "cell_type": "markdown",
      "metadata": {
        "id": "ibAgbyo16BcM",
        "colab_type": "text"
      },
      "source": [
        "### References\n",
        "\n",
        "* **Yassine Ghouzam**, PhD - Parameters for Data Augmentation using Image Data Generator, Variable Learning Rate using ReduceLROnPlateau (https://www.kaggle.com/yassineghouzam/introduction-to-cnn-keras-0-997-top-6)\n",
        "\n",
        "* **Taavish Thaman** - LeNet-5 Keras (https://github.com/TaavishThaman/LeNet-5-with-Keras)"
      ]
    }
  ]
}